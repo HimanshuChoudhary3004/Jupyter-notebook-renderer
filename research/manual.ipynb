{
 "cells": [
  {
   "cell_type": "code",
   "execution_count": 5,
   "metadata": {},
   "outputs": [],
   "source": [
    "url1=\"https://www.youtube.com/watch?v=Y8KdR-AyyyA\"\n",
    "url2=\"https://youtu.be/Y8KdR-AyyyA?feature=shared\"\n",
    "url3=\"https://youtu.be/Y8KdR-AyyyA?feature=shared&t=60\"\n",
    "url4=\"https://www.youtube.com/watch?v=1-68pFs_HIE&t=61s\""
   ]
  },
  {
   "cell_type": "code",
   "execution_count": 6,
   "metadata": {},
   "outputs": [
    {
     "data": {
      "text/plain": [
       "'Y8KdR-AyyyA'"
      ]
     },
     "execution_count": 6,
     "metadata": {},
     "output_type": "execute_result"
    }
   ],
   "source": [
    "url1.split('=')[-1]"
   ]
  },
  {
   "cell_type": "code",
   "execution_count": 7,
   "metadata": {},
   "outputs": [
    {
     "data": {
      "text/plain": [
       "'Y8KdR-AyyyA'"
      ]
     },
     "execution_count": 7,
     "metadata": {},
     "output_type": "execute_result"
    }
   ],
   "source": [
    "url2.split('/')[-1].split('?')[0]"
   ]
  },
  {
   "cell_type": "code",
   "execution_count": 8,
   "metadata": {},
   "outputs": [
    {
     "data": {
      "text/plain": [
       "('Y8KdR-AyyyA', '60')"
      ]
     },
     "execution_count": 8,
     "metadata": {},
     "output_type": "execute_result"
    }
   ],
   "source": [
    "url3.split('=')[0].split('/')[-1].split('?')[0],url3.split('=')[-1]\n",
    "\n",
    "#vid_id,time=url3.split[0].split(\"/\")[-1][:-2],int(split_val[-1])"
   ]
  },
  {
   "cell_type": "code",
   "execution_count": 9,
   "metadata": {},
   "outputs": [
    {
     "data": {
      "text/plain": [
       "'Y8KdR-AyyyA'"
      ]
     },
     "execution_count": 9,
     "metadata": {},
     "output_type": "execute_result"
    }
   ],
   "source": [
    "url3.split('=')[0].split('/')[-1].split('?')[0]"
   ]
  },
  {
   "cell_type": "code",
   "execution_count": 10,
   "metadata": {},
   "outputs": [
    {
     "data": {
      "text/plain": [
       "'1-68pFs_HIE'"
      ]
     },
     "execution_count": 10,
     "metadata": {},
     "output_type": "execute_result"
    }
   ],
   "source": [
    "url4.split('=')[-2][:-2]\n",
    "\n",
    "#vid_id,time=url4[-2][:-2],int(split_val[-2][:-1]"
   ]
  },
  {
   "cell_type": "code",
   "execution_count": 11,
   "metadata": {},
   "outputs": [
    {
     "data": {
      "text/plain": [
       "'61'"
      ]
     },
     "execution_count": 11,
     "metadata": {},
     "output_type": "execute_result"
    }
   ],
   "source": [
    "url4.split('=')[-1][:-1]"
   ]
  },
  {
   "cell_type": "code",
   "execution_count": 12,
   "metadata": {},
   "outputs": [],
   "source": [
    "from jupyter_notebook_renderer import render_youtube_video"
   ]
  },
  {
   "cell_type": "code",
   "execution_count": 13,
   "metadata": {},
   "outputs": [],
   "source": [
    "from py_youtube import Data"
   ]
  },
  {
   "cell_type": "code",
   "execution_count": 14,
   "metadata": {},
   "outputs": [],
   "source": [
    "data=Data(url1).data()"
   ]
  },
  {
   "cell_type": "code",
   "execution_count": 15,
   "metadata": {},
   "outputs": [
    {
     "data": {
      "text/plain": [
       "{'id': 'Y8KdR-AyyyA',\n",
       " 'title': 'Fix \\\\\"Error: Process completed with exit code\\\\\" errors on GitHub Actions',\n",
       " 'thumbnails': 'https://i.ytimg.com/vi/Y8KdR-AyyyA/hqdefault.jpg?sqp=-oaymwE1CKgBEF5IVfKriqkDKAgBFQAAiEIYAXABwAEG8AEB-AH-CYAC0AWKAgwIABABGH8gNygVMA8=\\\\u0026rs=AOn4CLCFhyKaXPZFJGgclyNEd8ydWDnmrQ',\n",
       " 'views': '467',\n",
       " 'likes': None,\n",
       " 'dislikes': None,\n",
       " 'publishdate': '2023-12-03',\n",
       " 'category': 'Science \\\\u0026 Technology',\n",
       " 'channel_name': 'Jonathan Soma',\n",
       " 'subscriber': '4.25K',\n",
       " 'keywords': 'video, sharing, camera phone, video phone, free, upload'}"
      ]
     },
     "execution_count": 15,
     "metadata": {},
     "output_type": "execute_result"
    }
   ],
   "source": [
    "data"
   ]
  },
  {
   "cell_type": "code",
   "execution_count": 16,
   "metadata": {},
   "outputs": [],
   "source": [
    "from IPython import display\n",
    "from ensure import ensure_annotations\n",
    "from jupyter_notebook_renderer.custom_exception import InvalidURLException\n",
    "from jupyter_notebook_renderer.logger import logger\n",
    "from py_youtube import Data\n",
    "\n",
    "\n",
    "@ensure_annotations\n",
    "def get_time_info(url: str)->int:\n",
    "    def _verify_vid_id_len(vid_id,_expected_len=11):\n",
    "        vid_id_len=len(vid_id)\n",
    "        if vid_id_len!=_expected_len:\n",
    "            raise InvalidURLException(f\"Invalid video id with length :{vid_id_len}, expected: {_expected_len}\")\n",
    "    \n",
    "    try:\n",
    "        split_val=url.split('=')\n",
    "        if \"watch\" in url:\n",
    "            if \"&t\" in url:\n",
    "                vid_id,time=split_val[-2][:-2],int(split_val[-1][:-1])\n",
    "                _verify_vid_id_len(vid_id)\n",
    "                logger.info(f\"video starts at {time}\")\n",
    "                return time\n",
    "            else:\n",
    "                vid_id,time=split_val[-1],0\n",
    "                _verify_vid_id_len(vid_id)\n",
    "                logger.info(f\"video starts at {time}\")\n",
    "                return time\n",
    "        else:\n",
    "            if \"=\" in url and \"&t\" in url:\n",
    "                vid_id,time=split_val[0].split('/')[-1].split('?')[0],int(split_val[-1])\n",
    "\n",
    "                _verify_vid_id_len(vid_id)\n",
    "                logger.info(f\"video starts at {time}\")\n",
    "                return time\n",
    "            else:\n",
    "                vid_id,time=url.split('/')[-1].split('?')[0],0\n",
    "                _verify_vid_id_len(vid_id)\n",
    "                logger.info(f\"video starts at {time}\")\n",
    "                return time\n",
    "    except Exception:\n",
    "        raise InvalidURLException\n",
    "\n"
   ]
  },
  {
   "cell_type": "code",
   "execution_count": 17,
   "metadata": {},
   "outputs": [
    {
     "data": {
      "text/plain": [
       "61"
      ]
     },
     "execution_count": 17,
     "metadata": {},
     "output_type": "execute_result"
    }
   ],
   "source": [
    "get_time_info(url4)"
   ]
  },
  {
   "cell_type": "code",
   "execution_count": 18,
   "metadata": {},
   "outputs": [],
   "source": [
    "from jupyter_notebook_renderer import render_youtube_video"
   ]
  },
  {
   "cell_type": "code",
   "execution_count": 19,
   "metadata": {},
   "outputs": [
    {
     "data": {
      "text/html": [
       "<iframe \n",
       "            width=\"780\" height=\"600\" \n",
       "            src=\"https://www.youtube.com/embed/1-68pFs_HIE?start=61\" \n",
       "            title=\"YouTube video player\" \n",
       "            frameborder=\"0\" \n",
       "            allow=\"accelerometer; \n",
       "            autoplay; clipboard-write; \n",
       "            encrypted-media; gyroscope; \n",
       "            picture-in-picture; web-share\" allowfullscreen>\n",
       "            </iframe> \n",
       "            "
      ],
      "text/plain": [
       "<IPython.core.display.HTML object>"
      ]
     },
     "metadata": {},
     "output_type": "display_data"
    },
    {
     "data": {
      "text/plain": [
       "'success'"
      ]
     },
     "execution_count": 19,
     "metadata": {},
     "output_type": "execute_result"
    }
   ],
   "source": [
    "render_youtube_video(url4)"
   ]
  },
  {
   "cell_type": "code",
   "execution_count": null,
   "metadata": {},
   "outputs": [],
   "source": []
  }
 ],
 "metadata": {
  "kernelspec": {
   "display_name": "venv",
   "language": "python",
   "name": "python3"
  },
  "language_info": {
   "codemirror_mode": {
    "name": "ipython",
    "version": 3
   },
   "file_extension": ".py",
   "mimetype": "text/x-python",
   "name": "python",
   "nbconvert_exporter": "python",
   "pygments_lexer": "ipython3",
   "version": "3.12.1"
  }
 },
 "nbformat": 4,
 "nbformat_minor": 2
}
