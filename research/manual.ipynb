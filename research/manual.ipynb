{
 "cells": [
  {
   "cell_type": "code",
   "execution_count": 1,
   "metadata": {},
   "outputs": [],
   "source": [
    "url1 = \"https://www.youtube.com/watch?v=Y8KdR-AyyyA\"\n",
    "url2 = \"https://youtu.be/Y8KdR-AyyyA?feature=shared\"\n",
    "url3 = \"https://youtu.be/Y8KdR-AyyyA?feature=shared&t=60\"\n",
    "url4 = \"https://www.youtube.com/watch?v=1-68pFs_HIE&t=61s\""
   ]
  },
  {
   "cell_type": "code",
   "execution_count": 2,
   "metadata": {},
   "outputs": [
    {
     "data": {
      "text/plain": [
       "'Y8KdR-AyyyA'"
      ]
     },
     "execution_count": 2,
     "metadata": {},
     "output_type": "execute_result"
    }
   ],
   "source": [
    "url1.split(\"=\")[-1]"
   ]
  },
  {
   "cell_type": "code",
   "execution_count": 3,
   "metadata": {},
   "outputs": [
    {
     "data": {
      "text/plain": [
       "'Y8KdR-AyyyA'"
      ]
     },
     "execution_count": 3,
     "metadata": {},
     "output_type": "execute_result"
    }
   ],
   "source": [
    "url2.split(\"/\")[-1].split(\"?\")[0]"
   ]
  },
  {
   "cell_type": "code",
   "execution_count": 4,
   "metadata": {},
   "outputs": [
    {
     "data": {
      "text/plain": [
       "('Y8KdR-AyyyA', '60')"
      ]
     },
     "execution_count": 4,
     "metadata": {},
     "output_type": "execute_result"
    }
   ],
   "source": [
    "url3.split(\"=\")[0].split(\"/\")[-1].split(\"?\")[0], url3.split(\"=\")[-1]\n",
    "\n",
    "# vid_id,time=url3.split[0].split(\"/\")[-1][:-2],int(split_val[-1])"
   ]
  },
  {
   "cell_type": "code",
   "execution_count": 5,
   "metadata": {},
   "outputs": [
    {
     "data": {
      "text/plain": [
       "'Y8KdR-AyyyA'"
      ]
     },
     "execution_count": 5,
     "metadata": {},
     "output_type": "execute_result"
    }
   ],
   "source": [
    "url3.split(\"=\")[0].split(\"/\")[-1].split(\"?\")[0]"
   ]
  },
  {
   "cell_type": "code",
   "execution_count": 6,
   "metadata": {},
   "outputs": [
    {
     "data": {
      "text/plain": [
       "'1-68pFs_HIE'"
      ]
     },
     "execution_count": 6,
     "metadata": {},
     "output_type": "execute_result"
    }
   ],
   "source": [
    "url4.split(\"=\")[-2][:-2]\n",
    "\n",
    "# vid_id,time=url4[-2][:-2],int(split_val[-2][:-1]"
   ]
  },
  {
   "cell_type": "code",
   "execution_count": 7,
   "metadata": {},
   "outputs": [
    {
     "data": {
      "text/plain": [
       "'61'"
      ]
     },
     "execution_count": 7,
     "metadata": {},
     "output_type": "execute_result"
    }
   ],
   "source": [
    "url4.split(\"=\")[-1][:-1]"
   ]
  },
  {
   "cell_type": "code",
   "execution_count": 8,
   "metadata": {},
   "outputs": [
    {
     "ename": "TypeError",
     "evalue": "Level not an integer or a valid string: <function info at 0x00000277BAF8B560>",
     "output_type": "error",
     "traceback": [
      "\u001b[1;31m---------------------------------------------------------------------------\u001b[0m",
      "\u001b[1;31mTypeError\u001b[0m                                 Traceback (most recent call last)",
      "Cell \u001b[1;32mIn[8], line 1\u001b[0m\n\u001b[1;32m----> 1\u001b[0m \u001b[38;5;28;01mfrom\u001b[39;00m \u001b[38;5;21;01mjupyter_notebook_renderer\u001b[39;00m \u001b[38;5;28;01mimport\u001b[39;00m render_youtube_video\n",
      "File \u001b[1;32mE:\\My Projects\\Jupyter notebook rendrer\\src\\jupyter_notebook_renderer\\__init__.py:1\u001b[0m\n\u001b[1;32m----> 1\u001b[0m \u001b[38;5;28;01mfrom\u001b[39;00m \u001b[38;5;21;01mjupyter_notebook_renderer\u001b[39;00m\u001b[38;5;21;01m.\u001b[39;00m\u001b[38;5;21;01myoutube\u001b[39;00m \u001b[38;5;28;01mimport\u001b[39;00m render_youtube_video\n",
      "File \u001b[1;32mE:\\My Projects\\Jupyter notebook rendrer\\src\\jupyter_notebook_renderer\\youtube.py:5\u001b[0m\n\u001b[0;32m      3\u001b[0m \u001b[38;5;28;01mfrom\u001b[39;00m \u001b[38;5;21;01mensure\u001b[39;00m \u001b[38;5;28;01mimport\u001b[39;00m ensure_annotations\n\u001b[0;32m      4\u001b[0m \u001b[38;5;28;01mfrom\u001b[39;00m \u001b[38;5;21;01mjupyter_notebook_renderer\u001b[39;00m\u001b[38;5;21;01m.\u001b[39;00m\u001b[38;5;21;01mcustom_exception\u001b[39;00m \u001b[38;5;28;01mimport\u001b[39;00m InvalidURLException\n\u001b[1;32m----> 5\u001b[0m \u001b[38;5;28;01mfrom\u001b[39;00m \u001b[38;5;21;01mjupyter_notebook_renderer\u001b[39;00m\u001b[38;5;21;01m.\u001b[39;00m\u001b[38;5;21;01mlogger\u001b[39;00m \u001b[38;5;28;01mimport\u001b[39;00m logger\n\u001b[0;32m      6\u001b[0m \u001b[38;5;28;01mfrom\u001b[39;00m \u001b[38;5;21;01mpy_youtube\u001b[39;00m \u001b[38;5;28;01mimport\u001b[39;00m Data\n\u001b[0;32m      9\u001b[0m \u001b[38;5;129m@ensure_annotations\u001b[39m\n\u001b[0;32m     10\u001b[0m \u001b[38;5;28;01mdef\u001b[39;00m \u001b[38;5;21mget_time_info\u001b[39m(url: \u001b[38;5;28mstr\u001b[39m) \u001b[38;5;241m-\u001b[39m\u001b[38;5;241m>\u001b[39m \u001b[38;5;28mint\u001b[39m:\n",
      "File \u001b[1;32mE:\\My Projects\\Jupyter notebook rendrer\\src\\jupyter_notebook_renderer\\logger.py:11\u001b[0m\n\u001b[0;32m      8\u001b[0m log_filepath \u001b[38;5;241m=\u001b[39m os\u001b[38;5;241m.\u001b[39mpath\u001b[38;5;241m.\u001b[39mjoin(log_dir, \u001b[38;5;124m\"\u001b[39m\u001b[38;5;124mrunning_logs.log\u001b[39m\u001b[38;5;124m\"\u001b[39m)\n\u001b[0;32m      9\u001b[0m os\u001b[38;5;241m.\u001b[39mmakedirs(log_dir, exist_ok\u001b[38;5;241m=\u001b[39m\u001b[38;5;28;01mTrue\u001b[39;00m)\n\u001b[1;32m---> 11\u001b[0m \u001b[43mlogging\u001b[49m\u001b[38;5;241;43m.\u001b[39;49m\u001b[43mbasicConfig\u001b[49m\u001b[43m(\u001b[49m\n\u001b[0;32m     12\u001b[0m \u001b[43m    \u001b[49m\u001b[43mlevel\u001b[49m\u001b[38;5;241;43m=\u001b[39;49m\u001b[43mlogging\u001b[49m\u001b[38;5;241;43m.\u001b[39;49m\u001b[43minfo\u001b[49m\u001b[43m,\u001b[49m\n\u001b[0;32m     13\u001b[0m \u001b[43m    \u001b[49m\u001b[38;5;28;43mformat\u001b[39;49m\u001b[38;5;241;43m=\u001b[39;49m\u001b[43mlogging_str\u001b[49m\u001b[43m,\u001b[49m\n\u001b[0;32m     14\u001b[0m \u001b[43m    \u001b[49m\u001b[43mhandlers\u001b[49m\u001b[38;5;241;43m=\u001b[39;49m\u001b[43m[\u001b[49m\n\u001b[0;32m     15\u001b[0m \u001b[43m        \u001b[49m\u001b[43mlogging\u001b[49m\u001b[38;5;241;43m.\u001b[39;49m\u001b[43mFileHandler\u001b[49m\u001b[43m(\u001b[49m\u001b[43mlog_filepath\u001b[49m\u001b[43m)\u001b[49m\u001b[43m,\u001b[49m\n\u001b[0;32m     16\u001b[0m \u001b[43m        \u001b[49m\u001b[43mlogging\u001b[49m\u001b[38;5;241;43m.\u001b[39;49m\u001b[43mStreamHandler\u001b[49m\u001b[43m(\u001b[49m\u001b[43msys\u001b[49m\u001b[38;5;241;43m.\u001b[39;49m\u001b[43mstdout\u001b[49m\u001b[43m)\u001b[49m\u001b[43m,\u001b[49m\n\u001b[0;32m     17\u001b[0m \u001b[43m    \u001b[49m\u001b[43m]\u001b[49m\u001b[43m,\u001b[49m\n\u001b[0;32m     18\u001b[0m \u001b[43m)\u001b[49m\n\u001b[0;32m     20\u001b[0m logger \u001b[38;5;241m=\u001b[39m logging\u001b[38;5;241m.\u001b[39mgetLogger(\u001b[38;5;124m\"\u001b[39m\u001b[38;5;124mjupyter_notebook_renderer\u001b[39m\u001b[38;5;124m\"\u001b[39m)\n",
      "File \u001b[1;32mc:\\Users\\Himanshu Choudhary\\AppData\\Local\\Programs\\Python\\Python312\\Lib\\logging\\__init__.py:2144\u001b[0m, in \u001b[0;36mbasicConfig\u001b[1;34m(**kwargs)\u001b[0m\n\u001b[0;32m   2142\u001b[0m level \u001b[38;5;241m=\u001b[39m kwargs\u001b[38;5;241m.\u001b[39mpop(\u001b[38;5;124m\"\u001b[39m\u001b[38;5;124mlevel\u001b[39m\u001b[38;5;124m\"\u001b[39m, \u001b[38;5;28;01mNone\u001b[39;00m)\n\u001b[0;32m   2143\u001b[0m \u001b[38;5;28;01mif\u001b[39;00m level \u001b[38;5;129;01mis\u001b[39;00m \u001b[38;5;129;01mnot\u001b[39;00m \u001b[38;5;28;01mNone\u001b[39;00m:\n\u001b[1;32m-> 2144\u001b[0m     \u001b[43mroot\u001b[49m\u001b[38;5;241;43m.\u001b[39;49m\u001b[43msetLevel\u001b[49m\u001b[43m(\u001b[49m\u001b[43mlevel\u001b[49m\u001b[43m)\u001b[49m\n\u001b[0;32m   2145\u001b[0m \u001b[38;5;28;01mif\u001b[39;00m kwargs:\n\u001b[0;32m   2146\u001b[0m     keys \u001b[38;5;241m=\u001b[39m \u001b[38;5;124m'\u001b[39m\u001b[38;5;124m, \u001b[39m\u001b[38;5;124m'\u001b[39m\u001b[38;5;241m.\u001b[39mjoin(kwargs\u001b[38;5;241m.\u001b[39mkeys())\n",
      "File \u001b[1;32mc:\\Users\\Himanshu Choudhary\\AppData\\Local\\Programs\\Python\\Python312\\Lib\\logging\\__init__.py:1514\u001b[0m, in \u001b[0;36mLogger.setLevel\u001b[1;34m(self, level)\u001b[0m\n\u001b[0;32m   1510\u001b[0m \u001b[38;5;28;01mdef\u001b[39;00m \u001b[38;5;21msetLevel\u001b[39m(\u001b[38;5;28mself\u001b[39m, level):\n\u001b[0;32m   1511\u001b[0m \u001b[38;5;250m    \u001b[39m\u001b[38;5;124;03m\"\"\"\u001b[39;00m\n\u001b[0;32m   1512\u001b[0m \u001b[38;5;124;03m    Set the logging level of this logger.  level must be an int or a str.\u001b[39;00m\n\u001b[0;32m   1513\u001b[0m \u001b[38;5;124;03m    \"\"\"\u001b[39;00m\n\u001b[1;32m-> 1514\u001b[0m     \u001b[38;5;28mself\u001b[39m\u001b[38;5;241m.\u001b[39mlevel \u001b[38;5;241m=\u001b[39m \u001b[43m_checkLevel\u001b[49m\u001b[43m(\u001b[49m\u001b[43mlevel\u001b[49m\u001b[43m)\u001b[49m\n\u001b[0;32m   1515\u001b[0m     \u001b[38;5;28mself\u001b[39m\u001b[38;5;241m.\u001b[39mmanager\u001b[38;5;241m.\u001b[39m_clear_cache()\n",
      "File \u001b[1;32mc:\\Users\\Himanshu Choudhary\\AppData\\Local\\Programs\\Python\\Python312\\Lib\\logging\\__init__.py:216\u001b[0m, in \u001b[0;36m_checkLevel\u001b[1;34m(level)\u001b[0m\n\u001b[0;32m    214\u001b[0m     rv \u001b[38;5;241m=\u001b[39m _nameToLevel[level]\n\u001b[0;32m    215\u001b[0m \u001b[38;5;28;01melse\u001b[39;00m:\n\u001b[1;32m--> 216\u001b[0m     \u001b[38;5;28;01mraise\u001b[39;00m \u001b[38;5;167;01mTypeError\u001b[39;00m(\u001b[38;5;124m\"\u001b[39m\u001b[38;5;124mLevel not an integer or a valid string: \u001b[39m\u001b[38;5;132;01m%r\u001b[39;00m\u001b[38;5;124m\"\u001b[39m\n\u001b[0;32m    217\u001b[0m                     \u001b[38;5;241m%\u001b[39m (level,))\n\u001b[0;32m    218\u001b[0m \u001b[38;5;28;01mreturn\u001b[39;00m rv\n",
      "\u001b[1;31mTypeError\u001b[0m: Level not an integer or a valid string: <function info at 0x00000277BAF8B560>"
     ]
    }
   ],
   "source": [
    "from jupyter_notebook_renderer import render_youtube_video"
   ]
  },
  {
   "cell_type": "code",
   "execution_count": null,
   "metadata": {},
   "outputs": [],
   "source": [
    "from py_youtube import Data"
   ]
  },
  {
   "cell_type": "code",
   "execution_count": null,
   "metadata": {},
   "outputs": [],
   "source": [
    "data = Data(url1).data()"
   ]
  },
  {
   "cell_type": "code",
   "execution_count": null,
   "metadata": {},
   "outputs": [
    {
     "data": {
      "text/plain": [
       "{'id': 'Y8KdR-AyyyA',\n",
       " 'title': 'Fix \\\\\"Error: Process completed with exit code\\\\\" errors on GitHub Actions',\n",
       " 'thumbnails': 'https://i.ytimg.com/vi/Y8KdR-AyyyA/hqdefault.jpg?sqp=-oaymwE1CKgBEF5IVfKriqkDKAgBFQAAiEIYAXABwAEG8AEB-AH-CYAC0AWKAgwIABABGH8gNygVMA8=\\\\u0026rs=AOn4CLCFhyKaXPZFJGgclyNEd8ydWDnmrQ',\n",
       " 'views': '467',\n",
       " 'likes': None,\n",
       " 'dislikes': None,\n",
       " 'publishdate': '2023-12-03',\n",
       " 'category': 'Science \\\\u0026 Technology',\n",
       " 'channel_name': 'Jonathan Soma',\n",
       " 'subscriber': '4.25K',\n",
       " 'keywords': 'video, sharing, camera phone, video phone, free, upload'}"
      ]
     },
     "execution_count": 15,
     "metadata": {},
     "output_type": "execute_result"
    }
   ],
   "source": [
    "data"
   ]
  },
  {
   "cell_type": "code",
   "execution_count": null,
   "metadata": {},
   "outputs": [],
   "source": [
    "from IPython import display\n",
    "from ensure import ensure_annotations\n",
    "from jupyter_notebook_renderer.custom_exception import InvalidURLException\n",
    "from jupyter_notebook_renderer.logger import logger\n",
    "from py_youtube import Data\n",
    "\n",
    "\n",
    "@ensure_annotations\n",
    "def get_time_info(url: str) -> int:\n",
    "    def _verify_vid_id_len(vid_id, _expected_len=11):\n",
    "        vid_id_len = len(vid_id)\n",
    "        if vid_id_len != _expected_len:\n",
    "            raise InvalidURLException(\n",
    "                f\"Invalid video id with length :{vid_id_len}, expected: {_expected_len}\"\n",
    "            )\n",
    "\n",
    "    try:\n",
    "        split_val = url.split(\"=\")\n",
    "        if \"watch\" in url:\n",
    "            if \"&t\" in url:\n",
    "                vid_id, time = split_val[-2][:-2], int(split_val[-1][:-1])\n",
    "                _verify_vid_id_len(vid_id)\n",
    "                logger.info(f\"video starts at {time}\")\n",
    "                return time\n",
    "            else:\n",
    "                vid_id, time = split_val[-1], 0\n",
    "                _verify_vid_id_len(vid_id)\n",
    "                logger.info(f\"video starts at {time}\")\n",
    "                return time\n",
    "        else:\n",
    "            if \"=\" in url and \"&t\" in url:\n",
    "                vid_id, time = split_val[0].split(\"/\")[-1].split(\"?\")[0], int(\n",
    "                    split_val[-1]\n",
    "                )\n",
    "\n",
    "                _verify_vid_id_len(vid_id)\n",
    "                logger.info(f\"video starts at {time}\")\n",
    "                return time\n",
    "            else:\n",
    "                vid_id, time = url.split(\"/\")[-1].split(\"?\")[0], 0\n",
    "                _verify_vid_id_len(vid_id)\n",
    "                logger.info(f\"video starts at {time}\")\n",
    "                return time\n",
    "    except Exception:\n",
    "        raise InvalidURLException"
   ]
  },
  {
   "cell_type": "code",
   "execution_count": null,
   "metadata": {},
   "outputs": [
    {
     "data": {
      "text/plain": [
       "61"
      ]
     },
     "execution_count": 17,
     "metadata": {},
     "output_type": "execute_result"
    }
   ],
   "source": [
    "get_time_info(url4)"
   ]
  },
  {
   "cell_type": "code",
   "execution_count": 9,
   "metadata": {},
   "outputs": [],
   "source": [
    "from jupyter_notebook_renderer import render_youtube_video"
   ]
  },
  {
   "cell_type": "code",
   "execution_count": 10,
   "metadata": {},
   "outputs": [
    {
     "data": {
      "text/html": [
       "<iframe \n",
       "            width=\"780\" height=\"600\" \n",
       "            src=\"https://www.youtube.com/embed/1-68pFs_HIE?start=61\" \n",
       "            title=\"YouTube video player\" \n",
       "            frameborder=\"0\" \n",
       "            allow=\"accelerometer; \n",
       "            autoplay; clipboard-write; \n",
       "            encrypted-media; gyroscope; \n",
       "            picture-in-picture; web-share\" allowfullscreen>\n",
       "            </iframe> \n",
       "            "
      ],
      "text/plain": [
       "<IPython.core.display.HTML object>"
      ]
     },
     "metadata": {},
     "output_type": "display_data"
    },
    {
     "data": {
      "text/plain": [
       "'success'"
      ]
     },
     "execution_count": 10,
     "metadata": {},
     "output_type": "execute_result"
    }
   ],
   "source": [
    "render_youtube_video(url4)"
   ]
  },
  {
   "cell_type": "code",
   "execution_count": 11,
   "metadata": {},
   "outputs": [
    {
     "name": "stderr",
     "output_type": "stream",
     "text": [
      "C:\\Users\\Himanshu Choudhary\\AppData\\Local\\Temp\\ipykernel_2088\\1727054869.py:1: DeprecationWarning: Importing display from IPython.core.display is deprecated since IPython 7.14, please import from IPython display\n",
      "  from IPython.core.display import display, HTML\n"
     ]
    },
    {
     "ename": "InvalidURLException",
     "evalue": "invalid literal for int() with base 10: 'Y8KdR-Ayyy'",
     "output_type": "error",
     "traceback": [
      "\u001b[1;31m---------------------------------------------------------------------------\u001b[0m",
      "\u001b[1;31mValueError\u001b[0m                                Traceback (most recent call last)",
      "Cell \u001b[1;32mIn[11], line 20\u001b[0m, in \u001b[0;36mget_time_info\u001b[1;34m(url)\u001b[0m\n\u001b[0;32m     19\u001b[0m \u001b[38;5;28;01mif\u001b[39;00m \u001b[38;5;124m\"\u001b[39m\u001b[38;5;124mwatch\u001b[39m\u001b[38;5;124m\"\u001b[39m \u001b[38;5;129;01min\u001b[39;00m url:\n\u001b[1;32m---> 20\u001b[0m     vid_id, time \u001b[38;5;241m=\u001b[39m split_val[\u001b[38;5;241m-\u001b[39m\u001b[38;5;241m2\u001b[39m][:\u001b[38;5;241m-\u001b[39m\u001b[38;5;241m2\u001b[39m], \u001b[38;5;28;43mint\u001b[39;49m\u001b[43m(\u001b[49m\u001b[43msplit_val\u001b[49m\u001b[43m[\u001b[49m\u001b[38;5;241;43m-\u001b[39;49m\u001b[38;5;241;43m1\u001b[39;49m\u001b[43m]\u001b[49m\u001b[43m[\u001b[49m\u001b[43m:\u001b[49m\u001b[38;5;241;43m-\u001b[39;49m\u001b[38;5;241;43m1\u001b[39;49m\u001b[43m]\u001b[49m\u001b[43m)\u001b[49m\n\u001b[0;32m     21\u001b[0m \u001b[38;5;28;01melse\u001b[39;00m:\n",
      "\u001b[1;31mValueError\u001b[0m: invalid literal for int() with base 10: 'Y8KdR-Ayyy'",
      "\nDuring handling of the above exception, another exception occurred:\n",
      "\u001b[1;31mInvalidURLException\u001b[0m                       Traceback (most recent call last)",
      "Cell \u001b[1;32mIn[11], line 60\u001b[0m\n\u001b[0;32m     57\u001b[0m     \u001b[38;5;28;01mexcept\u001b[39;00m (\u001b[38;5;167;01mValueError\u001b[39;00m, \u001b[38;5;167;01mIndexError\u001b[39;00m) \u001b[38;5;28;01mas\u001b[39;00m e:\n\u001b[0;32m     58\u001b[0m         \u001b[38;5;28;01mraise\u001b[39;00m InvalidURLException(\u001b[38;5;28mstr\u001b[39m(e))\n\u001b[1;32m---> 60\u001b[0m \u001b[43mrender_youtube_video\u001b[49m\u001b[43m(\u001b[49m\u001b[43murl1\u001b[49m\u001b[43m)\u001b[49m\n",
      "File \u001b[1;32mc:\\Users\\Himanshu Choudhary\\AppData\\Local\\Programs\\Python\\Python312\\Lib\\site-packages\\ensure\\main.py:872\u001b[0m, in \u001b[0;36mWrappedFunctionReturn.__call__\u001b[1;34m(self, *args, **kwargs)\u001b[0m\n\u001b[0;32m    869\u001b[0m         msg \u001b[38;5;241m=\u001b[39m \u001b[38;5;124m\"\u001b[39m\u001b[38;5;124mArgument \u001b[39m\u001b[38;5;132;01m{arg}\u001b[39;00m\u001b[38;5;124m of type \u001b[39m\u001b[38;5;132;01m{valt}\u001b[39;00m\u001b[38;5;124m to \u001b[39m\u001b[38;5;132;01m{f}\u001b[39;00m\u001b[38;5;124m \u001b[39m\u001b[38;5;124m\"\u001b[39m \u001b[38;5;124m\"\u001b[39m\u001b[38;5;124mdoes not match annotation type \u001b[39m\u001b[38;5;132;01m{t}\u001b[39;00m\u001b[38;5;124m\"\u001b[39m\n\u001b[0;32m    870\u001b[0m         \u001b[38;5;28;01mraise\u001b[39;00m EnsureError(msg\u001b[38;5;241m.\u001b[39mformat(arg\u001b[38;5;241m=\u001b[39marg, f\u001b[38;5;241m=\u001b[39m\u001b[38;5;28mself\u001b[39m\u001b[38;5;241m.\u001b[39mf, t\u001b[38;5;241m=\u001b[39mtempl, valt\u001b[38;5;241m=\u001b[39m\u001b[38;5;28mtype\u001b[39m(value)))\n\u001b[1;32m--> 872\u001b[0m return_val \u001b[38;5;241m=\u001b[39m \u001b[38;5;28;43mself\u001b[39;49m\u001b[38;5;241;43m.\u001b[39;49m\u001b[43mf\u001b[49m\u001b[43m(\u001b[49m\u001b[38;5;241;43m*\u001b[39;49m\u001b[43margs\u001b[49m\u001b[43m,\u001b[49m\u001b[43m \u001b[49m\u001b[38;5;241;43m*\u001b[39;49m\u001b[38;5;241;43m*\u001b[39;49m\u001b[43mkwargs\u001b[49m\u001b[43m)\u001b[49m\n\u001b[0;32m    873\u001b[0m \u001b[38;5;28;01mif\u001b[39;00m \u001b[38;5;129;01mnot\u001b[39;00m \u001b[38;5;28misinstance\u001b[39m(return_val, \u001b[38;5;28mself\u001b[39m\u001b[38;5;241m.\u001b[39mreturn_templ):\n\u001b[0;32m    874\u001b[0m     msg \u001b[38;5;241m=\u001b[39m \u001b[38;5;124m\"\u001b[39m\u001b[38;5;124mReturn value of \u001b[39m\u001b[38;5;132;01m{f}\u001b[39;00m\u001b[38;5;124m of type \u001b[39m\u001b[38;5;132;01m{valt}\u001b[39;00m\u001b[38;5;124m \u001b[39m\u001b[38;5;124m\"\u001b[39m \u001b[38;5;124m\"\u001b[39m\u001b[38;5;124mdoes not match annotation type \u001b[39m\u001b[38;5;132;01m{t}\u001b[39;00m\u001b[38;5;124m\"\u001b[39m\n",
      "Cell \u001b[1;32mIn[11], line 39\u001b[0m, in \u001b[0;36mrender_youtube_video\u001b[1;34m(url, width, height)\u001b[0m\n\u001b[0;32m     37\u001b[0m data \u001b[38;5;241m=\u001b[39m Data(url)\u001b[38;5;241m.\u001b[39mdata()\n\u001b[0;32m     38\u001b[0m \u001b[38;5;28;01mif\u001b[39;00m data[\u001b[38;5;124m\"\u001b[39m\u001b[38;5;124mpublishdate\u001b[39m\u001b[38;5;124m\"\u001b[39m] \u001b[38;5;129;01mis\u001b[39;00m \u001b[38;5;129;01mnot\u001b[39;00m \u001b[38;5;28;01mNone\u001b[39;00m:\n\u001b[1;32m---> 39\u001b[0m     time \u001b[38;5;241m=\u001b[39m \u001b[43mget_time_info\u001b[49m\u001b[43m(\u001b[49m\u001b[43murl\u001b[49m\u001b[43m)\u001b[49m\n\u001b[0;32m     40\u001b[0m     vid_ID \u001b[38;5;241m=\u001b[39m data[\u001b[38;5;124m\"\u001b[39m\u001b[38;5;124mid\u001b[39m\u001b[38;5;124m\"\u001b[39m]\n\u001b[0;32m     41\u001b[0m     embeded_url \u001b[38;5;241m=\u001b[39m \u001b[38;5;124mf\u001b[39m\u001b[38;5;124m\"\u001b[39m\u001b[38;5;124mhttps://www.youtube.com/embed/\u001b[39m\u001b[38;5;132;01m{\u001b[39;00mvid_ID\u001b[38;5;132;01m}\u001b[39;00m\u001b[38;5;124m?start=\u001b[39m\u001b[38;5;132;01m{\u001b[39;00mtime\u001b[38;5;132;01m}\u001b[39;00m\u001b[38;5;124m\"\u001b[39m\n",
      "File \u001b[1;32mc:\\Users\\Himanshu Choudhary\\AppData\\Local\\Programs\\Python\\Python312\\Lib\\site-packages\\ensure\\main.py:872\u001b[0m, in \u001b[0;36mWrappedFunctionReturn.__call__\u001b[1;34m(self, *args, **kwargs)\u001b[0m\n\u001b[0;32m    869\u001b[0m         msg \u001b[38;5;241m=\u001b[39m \u001b[38;5;124m\"\u001b[39m\u001b[38;5;124mArgument \u001b[39m\u001b[38;5;132;01m{arg}\u001b[39;00m\u001b[38;5;124m of type \u001b[39m\u001b[38;5;132;01m{valt}\u001b[39;00m\u001b[38;5;124m to \u001b[39m\u001b[38;5;132;01m{f}\u001b[39;00m\u001b[38;5;124m \u001b[39m\u001b[38;5;124m\"\u001b[39m \u001b[38;5;124m\"\u001b[39m\u001b[38;5;124mdoes not match annotation type \u001b[39m\u001b[38;5;132;01m{t}\u001b[39;00m\u001b[38;5;124m\"\u001b[39m\n\u001b[0;32m    870\u001b[0m         \u001b[38;5;28;01mraise\u001b[39;00m EnsureError(msg\u001b[38;5;241m.\u001b[39mformat(arg\u001b[38;5;241m=\u001b[39marg, f\u001b[38;5;241m=\u001b[39m\u001b[38;5;28mself\u001b[39m\u001b[38;5;241m.\u001b[39mf, t\u001b[38;5;241m=\u001b[39mtempl, valt\u001b[38;5;241m=\u001b[39m\u001b[38;5;28mtype\u001b[39m(value)))\n\u001b[1;32m--> 872\u001b[0m return_val \u001b[38;5;241m=\u001b[39m \u001b[38;5;28;43mself\u001b[39;49m\u001b[38;5;241;43m.\u001b[39;49m\u001b[43mf\u001b[49m\u001b[43m(\u001b[49m\u001b[38;5;241;43m*\u001b[39;49m\u001b[43margs\u001b[49m\u001b[43m,\u001b[49m\u001b[43m \u001b[49m\u001b[38;5;241;43m*\u001b[39;49m\u001b[38;5;241;43m*\u001b[39;49m\u001b[43mkwargs\u001b[49m\u001b[43m)\u001b[49m\n\u001b[0;32m    873\u001b[0m \u001b[38;5;28;01mif\u001b[39;00m \u001b[38;5;129;01mnot\u001b[39;00m \u001b[38;5;28misinstance\u001b[39m(return_val, \u001b[38;5;28mself\u001b[39m\u001b[38;5;241m.\u001b[39mreturn_templ):\n\u001b[0;32m    874\u001b[0m     msg \u001b[38;5;241m=\u001b[39m \u001b[38;5;124m\"\u001b[39m\u001b[38;5;124mReturn value of \u001b[39m\u001b[38;5;132;01m{f}\u001b[39;00m\u001b[38;5;124m of type \u001b[39m\u001b[38;5;132;01m{valt}\u001b[39;00m\u001b[38;5;124m \u001b[39m\u001b[38;5;124m\"\u001b[39m \u001b[38;5;124m\"\u001b[39m\u001b[38;5;124mdoes not match annotation type \u001b[39m\u001b[38;5;132;01m{t}\u001b[39;00m\u001b[38;5;124m\"\u001b[39m\n",
      "Cell \u001b[1;32mIn[11], line 28\u001b[0m, in \u001b[0;36mget_time_info\u001b[1;34m(url)\u001b[0m\n\u001b[0;32m     26\u001b[0m     \u001b[38;5;28;01mreturn\u001b[39;00m time\n\u001b[0;32m     27\u001b[0m \u001b[38;5;28;01mexcept\u001b[39;00m (\u001b[38;5;167;01mValueError\u001b[39;00m, \u001b[38;5;167;01mIndexError\u001b[39;00m) \u001b[38;5;28;01mas\u001b[39;00m e:\n\u001b[1;32m---> 28\u001b[0m     \u001b[38;5;28;01mraise\u001b[39;00m InvalidURLException(\u001b[38;5;28mstr\u001b[39m(e))\n",
      "\u001b[1;31mInvalidURLException\u001b[0m: invalid literal for int() with base 10: 'Y8KdR-Ayyy'"
     ]
    }
   ],
   "source": [
    "from IPython.core.display import display, HTML\n",
    "from ensure import ensure_annotations\n",
    "from jupyter_notebook_renderer.custom_exception import InvalidURLException\n",
    "from jupyter_notebook_renderer.logger import logger\n",
    "from py_youtube import Data\n",
    "\n",
    "\n",
    "@ensure_annotations\n",
    "def get_time_info(url: str) -> int:\n",
    "    def _verify_vid_id_len(vid_id, expected_len=11):\n",
    "        vid_id_len = len(vid_id)\n",
    "        if vid_id_len != expected_len:\n",
    "            raise InvalidURLException(\n",
    "                f\"Invalid video id with length: {vid_id_len}, expected: {expected_len}\"\n",
    "            )\n",
    "\n",
    "    try:\n",
    "        split_val = url.split(\"=\")\n",
    "        if \"watch\" in url:\n",
    "            vid_id, time = split_val[-2][:-2], int(split_val[-1][:-1])\n",
    "        else:\n",
    "            vid_id, time = split_val[-1], 0\n",
    "\n",
    "        _verify_vid_id_len(vid_id)\n",
    "        logger.info(f\"video starts at {time}\")\n",
    "        return time\n",
    "    except (ValueError, IndexError) as e:\n",
    "        raise InvalidURLException(str(e))\n",
    "\n",
    "\n",
    "@ensure_annotations\n",
    "def render_youtube_video(url: str, width: int = 780, height: int = 600) -> str:\n",
    "    try:\n",
    "        if url is None:\n",
    "            raise InvalidURLException(\"URL cannot be empty\")\n",
    "\n",
    "        data = Data(url).data()\n",
    "        if data[\"publishdate\"] is not None:\n",
    "            time = get_time_info(url)\n",
    "            vid_ID = data[\"id\"]\n",
    "            embeded_url = f\"https://www.youtube.com/embed/{vid_ID}?start={time}\"\n",
    "            logger.info(f\"embed url : {embeded_url}\")\n",
    "\n",
    "            iframe = f\"\"\"<iframe\n",
    "                width=\"{width}\" height=\"{height}\"\n",
    "                src=\"{embeded_url}\"\n",
    "                title=\"YouTube video player\"\n",
    "                frameborder=\"0\"\n",
    "                allow=\"accelerometer;\n",
    "                autoplay; clipboard-write;\n",
    "                encrypted-media; gyroscope;\n",
    "                picture-in-picture; web-share\" allowfullscreen>\n",
    "                </iframe>\n",
    "            \"\"\"\n",
    "            display(HTML(iframe))\n",
    "            return \"success\"\n",
    "    except (ValueError, IndexError) as e:\n",
    "        raise InvalidURLException(str(e))\n",
    "\n",
    "render_youtube_video(url1)"
   ]
  },
  {
   "cell_type": "code",
   "execution_count": null,
   "metadata": {},
   "outputs": [],
   "source": []
  }
 ],
 "metadata": {
  "kernelspec": {
   "display_name": "venv",
   "language": "python",
   "name": "python3"
  },
  "language_info": {
   "codemirror_mode": {
    "name": "ipython",
    "version": 3
   },
   "file_extension": ".py",
   "mimetype": "text/x-python",
   "name": "python",
   "nbconvert_exporter": "python",
   "pygments_lexer": "ipython3",
   "version": "3.12.1"
  }
 },
 "nbformat": 4,
 "nbformat_minor": 2
}
